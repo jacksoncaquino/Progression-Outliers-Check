{
 "cells": [
  {
   "cell_type": "code",
   "execution_count": 1,
   "id": "73ba1409",
   "metadata": {},
   "outputs": [],
   "source": [
    "from matplotlib import pyplot"
   ]
  },
  {
   "cell_type": "code",
   "execution_count": 23,
   "id": "c2638680",
   "metadata": {},
   "outputs": [],
   "source": [
    "import os\n",
    "import pandas\n",
    "import numpy\n",
    "\n",
    "def GetJobProfilesWithCompRangesPath():\n",
    "    return os.getenv('APPDATA') + \"\\\\Microsoft\\\\Addins\\\\Reports\\\\Job Profile With Comp Ranges.csv\"\n",
    "\n",
    "def getLevelIndex(nivel):\n",
    "    ilevels = [\"\",\"\",\"\",\"\",\"P1\",\"P2\",\"P3\",\"P4\",\"P5\",\"P6\"]\n",
    "    mlevels = [\"\",\"\",\"\",\"\",\"\",\"M1\",\"M2\",\"M3\",\"M4\",\"M5\",\"M6\"]   \n",
    "\n",
    "    if nivel in ilevels:\n",
    "        this_index = ilevels.index(nivel)\n",
    "    elif nivel in mlevels:\n",
    "        this_index = mlevels.index(nivel)\n",
    "    elif nivel in islevels:\n",
    "        this_index = islevels.index(nivel)\n",
    "    elif nivel in slevels:\n",
    "        this_index = slevels.index(nivel)\n",
    "    return this_index\n",
    "\n",
    "\n",
    "def GetTypicalProgression(CompMarket,from_level,to_level):\n",
    "    \n",
    "    indiceFrom = getLevelIndex(from_level)\n",
    "    indiceTo = getLevelIndex(to_level)\n",
    "    \n",
    "    tempVar = \"\"\n",
    "    \n",
    "    if (indiceFrom > indiceTo) or (indiceFrom == indiceTo and (from_level[0] == \"M\" or from_level[0]==\"E\")):\n",
    "        tempVar = to_level\n",
    "        to_level = from_level\n",
    "        from_level = tempVar\n",
    "    print(CompMarket,from_level,to_level)\n",
    "    dfJobProfilesWithCompRanges = pandas.read_csv(GetJobProfilesWithCompRangesPath())\n",
    "\n",
    "    # removing shells\n",
    "    dfJobProfilesWithCompRanges = dfJobProfilesWithCompRanges[dfJobProfilesWithCompRanges['Pay Range Midpoint']!=0]\n",
    "    dfJobProfilesWithCompRanges = dfJobProfilesWithCompRanges[dfJobProfilesWithCompRanges['Pay Range Midpoint']!=\"0\"]\n",
    "    \n",
    "    # removing inactive jobs\n",
    "    dfJobProfilesWithCompRanges = dfJobProfilesWithCompRanges[dfJobProfilesWithCompRanges[\"Job Profile\"].str.contains(\"inactive\")==False]\n",
    "    dfJobProfilesWithCompRanges = dfJobProfilesWithCompRanges[dfJobProfilesWithCompRanges[\"Job Profile\"].str.contains(\"zDNU\")==False]\n",
    "\n",
    "    # Filter for comp market\n",
    "    dfJobProfilesWithCompRanges = dfJobProfilesWithCompRanges[dfJobProfilesWithCompRanges[\"Compensation Market\"]==CompMarket]\n",
    "\n",
    "    # drop duplicates on Compensation Grade Profiles\n",
    "    dfJobProfilesWithCompRanges = dfJobProfilesWithCompRanges.drop_duplicates(subset=[\"Compensation Grade\"])\n",
    "    if len(dfJobProfilesWithCompRanges)==0:\n",
    "        return (\"\",\"\",\"\",\"\",\"\")\n",
    "    \n",
    "    dfJobProfilesWithCompRanges[\"Comp Grade Family\"] = dfJobProfilesWithCompRanges[\"Compensation Grade\"].str.split('-',expand=True)[0]\n",
    "    dfJobProfilesWithCompRanges = dfJobProfilesWithCompRanges[[\"Comp Grade Family\",\"Management Level\", 'Pay Range Midpoint']]\n",
    "\n",
    "    # To level table\n",
    "    dfToLevel = dfJobProfilesWithCompRanges[dfJobProfilesWithCompRanges['Management Level']==to_level]\n",
    "\n",
    "    # from level table\n",
    "    dfFromLevel = dfJobProfilesWithCompRanges[dfJobProfilesWithCompRanges['Management Level']==from_level]\n",
    "\n",
    "    dfFromLevel = dfFromLevel.merge(dfToLevel, on=\"Comp Grade Family\", how=\"inner\",suffixes=(\"-Lower\",\"-Higher\"))\n",
    "    dfFromLevel[\"Pay Range Midpoint-Higher\"] = pandas.to_numeric(dfFromLevel[\"Pay Range Midpoint-Higher\"])\n",
    "    dfFromLevel[\"Pay Range Midpoint-Lower\"] = pandas.to_numeric(dfFromLevel[\"Pay Range Midpoint-Lower\"])\n",
    "    dfFromLevel = dfFromLevel.dropna(subset=[\"Pay Range Midpoint-Higher\",\"Pay Range Midpoint-Lower\"])\n",
    "    dfFromLevel = dfFromLevel[dfFromLevel[\"Pay Range Midpoint-Higher\"]!=0]\n",
    "    dfFromLevel = dfFromLevel[dfFromLevel[\"Pay Range Midpoint-Lower\"]!=0]\n",
    "    dfFromLevel[\"Progression\"] = dfFromLevel[\"Pay Range Midpoint-Higher\"]/dfFromLevel[\"Pay Range Midpoint-Lower\"]-1\n",
    "    \n",
    "    pyplot.hist(dfFromLevel[\"Progression\"])\n",
    "    pyplot.show()\n",
    "    \n",
    "    if len(dfFromLevel)==0:\n",
    "        return (\"\",\"\",\"\",\"\",\"\")\n",
    "\n",
    "    else:\n",
    "        tupleResponse= (\n",
    "            numpy.percentile(dfFromLevel[\"Progression\"],1),\n",
    "            numpy.percentile(dfFromLevel[\"Progression\"],25),\n",
    "            numpy.percentile(dfFromLevel[\"Progression\"],50),\n",
    "            numpy.percentile(dfFromLevel[\"Progression\"],75),\n",
    "            numpy.percentile(dfFromLevel[\"Progression\"],100),\n",
    "            dfFromLevel[\"Progression\"].mean(),\n",
    "            dfFromLevel[\"Progression\"].count()\n",
    "            )\n",
    "\n",
    "    return tupleResponse\n",
    "\n",
    "\n",
    "dfJobProfilesWithCompRanges = pandas.read_csv(GetJobProfilesWithCompRangesPath())\n",
    "zones = []\n",
    "Level1 = []\n",
    "Level2 = []\n",
    "\n",
    "compmarkets = [\"LOC005\"]\n",
    "#for zone in dfJobProfilesWithCompRanges[\"Compensation Market\"].unique():\n",
    "for zone in compmarkets:\n",
    "    for a in range(len(FromLevel)):\n",
    "        zones.append(zone)\n",
    "        Level1.append(FromLevel[a])\n",
    "        Level2.append(ToLevel[a])"
   ]
  },
  {
   "cell_type": "code",
   "execution_count": 28,
   "id": "bdf3a4ef",
   "metadata": {},
   "outputs": [
    {
     "name": "stdout",
     "output_type": "stream",
     "text": [
      "LOC003 P6 M5\n"
     ]
    },
    {
     "data": {
      "image/png": "[encoded data removed]",
      "text/plain": [
       "<Figure size 432x288 with 1 Axes>"
      ]
     },
     "metadata": {
      "needs_background": "light"
     },
     "output_type": "display_data"
    },
    {
     "name": "stdout",
     "output_type": "stream",
     "text": [
      "LOC003 P7 M6\n"
     ]
    },
    {
     "data": {
      "image/png": "[encoded data removed]",
      "text/plain": [
       "<Figure size 432x288 with 1 Axes>"
      ]
     },
     "metadata": {
      "needs_background": "light"
     },
     "output_type": "display_data"
    },
    {
     "name": "stdout",
     "output_type": "stream",
     "text": [
      "LOC002 P6 M5\n"
     ]
    },
    {
     "data": {
      "image/png": "[encoded data removed]",
      "text/plain": [
       "<Figure size 432x288 with 1 Axes>"
      ]
     },
     "metadata": {
      "needs_background": "light"
     },
     "output_type": "display_data"
    },
    {
     "name": "stdout",
     "output_type": "stream",
     "text": [
      "LOC002 P7 M6\n"
     ]
    },
    {
     "data": {
      "image/png": "[encoded data removed]",
      "text/plain": [
       "<Figure size 432x288 with 1 Axes>"
      ]
     },
     "metadata": {
      "needs_background": "light"
     },
     "output_type": "display_data"
    },
    {
     "name": "stdout",
     "output_type": "stream",
     "text": [
      "LOC004 P6 M5\n"
     ]
    },
    {
     "data": {
      "image/png": "[encoded data removed]",
      "text/plain": [
       "<Figure size 432x288 with 1 Axes>"
      ]
     },
     "metadata": {
      "needs_background": "light"
     },
     "output_type": "display_data"
    },
    {
     "name": "stdout",
     "output_type": "stream",
     "text": [
      "LOC004 P7 M6\n"
     ]
    },
    {
     "data": {
      "image/png": "[encoded data removed]",
      "text/plain": [
       "<Figure size 432x288 with 1 Axes>"
      ]
     },
     "metadata": {
      "needs_background": "light"
     },
     "output_type": "display_data"
    },
    {
     "name": "stdout",
     "output_type": "stream",
     "text": [
      "LOC006 P6 M5\n"
     ]
    },
    {
     "data": {
      "image/png": "[encoded data removed]",
      "text/plain": [
       "<Figure size 432x288 with 1 Axes>"
      ]
     },
     "metadata": {
      "needs_background": "light"
     },
     "output_type": "display_data"
    },
    {
     "name": "stdout",
     "output_type": "stream",
     "text": [
      "LOC006 P7 M6\n"
     ]
    },
    {
     "data": {
      "image/png": "[encoded data removed]",
      "text/plain": [
       "<Figure size 432x288 with 1 Axes>"
      ]
     },
     "metadata": {
      "needs_background": "light"
     },
     "output_type": "display_data"
    },
    {
     "name": "stdout",
     "output_type": "stream",
     "text": [
      "LOC001 P6 M5\n"
     ]
    },
    {
     "data": {
      "image/png": "[encoded data removed]",
      "text/plain": [
       "<Figure size 432x288 with 1 Axes>"
      ]
     },
     "metadata": {
      "needs_background": "light"
     },
     "output_type": "display_data"
    },
    {
     "name": "stdout",
     "output_type": "stream",
     "text": [
      "LOC001 P7 M6\n"
     ]
    },
    {
     "data": {
      "image/png": "[encoded data removed]",
      "text/plain": [
       "<Figure size 432x288 with 1 Axes>"
      ]
     },
     "metadata": {
      "needs_background": "light"
     },
     "output_type": "display_data"
    }
   ],
   "source": [
    "compmarkets = [\"LOC003\",\"LOC002\", \"LOC004\", \"LOC006\", \"LOC001\"]\n",
    "#for zone in dfJobProfilesWithCompRanges[\"Compensation Market\"].unique():\n",
    "for zone in compmarkets:\n",
    "    for a in range(len(FromLevel)):\n",
    "        GetTypicalProgression(zone,FromLevel[a],ToLevel[a])"
   ]
  }
 ],
 "metadata": {
  "kernelspec": {
   "display_name": "Python 3 (ipykernel)",
   "language": "python",
   "name": "python3"
  },
  "language_info": {
   "codemirror_mode": {
    "name": "ipython",
    "version": 3
   },
   "file_extension": ".py",
   "mimetype": "text/x-python",
   "name": "python",
   "nbconvert_exporter": "python",
   "pygments_lexer": "ipython3",
   "version": "3.9.12"
  }
 },
 "nbformat": 4,
 "nbformat_minor": 5
}
